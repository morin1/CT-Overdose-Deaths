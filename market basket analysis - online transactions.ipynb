{
 "cells": [
  {
   "cell_type": "markdown",
   "metadata": {},
   "source": [
    "# Association or Market basket analysis - online transactions"
   ]
  },
  {
   "cell_type": "markdown",
   "metadata": {},
   "source": [
    "## Introduction\n",
    "\n",
    "Association analysis (most commonly known as \"Market Basket Analysis\") is a type of unsupervised analysis that seeks to find hidden patterns or connections in data through identifying instances of co-occurrence. The meaning of co-ocurrence can be explained in regards to customer shopping behavior where we ask the question \"given the occurrence of product A (the antecedent) in a transaction, how likely are we to find the occurrence of product B (the consequent)?\"(Provost & Fawcett,2013).  An example could be the co-occurrence of cereal and milk in a hypothetical grocery store transaction. This can also include groups of more than one item (e.g., the occurrence of peanut butter and jelly in a transaction, may lead to the purchase of bread (Lantz,015)). \n",
    "\n",
    "For this notebook, I will be exploring 'Association' analysis in regards to online customer transactions, to learn patterns in the purchasing data. This knowledge from mining patterns in customer shopping behavior can then be leveraged in many ways: to make better product recommendations, create cross-selling opportunities (placing items next to each other in an aisle), better inform marketing decisions, and even inform the logistics of warehousing inventory.<br>\n",
    "\n",
    "Sources:<br>\n",
    "Lantz, B. (2015). Machine Learning with R - Second Edition. Birmingham, UK: Packt Publishing.<br>\n",
    "\n",
    "Provost, F., &amp; Fawcett, T. (2013). Data science for business: What you need to know about data mining and data-analytic thinking. Sebastopol, CA: O'Reilly.<br>"
   ]
  },
  {
   "cell_type": "markdown",
   "metadata": {},
   "source": [
    "### Changes\n",
    "List dates and brief description\n",
    "\n",
    "12-20-2020: notebook initiated"
   ]
  },
  {
   "cell_type": "markdown",
   "metadata": {},
   "source": [
    "### Data Sources/Related Files\n",
    "The data for this project is to explore a dataset of customer transactions that occurred between 01/12/2010 and 09/12/2011 from a UK based online retail company. This dataset can be found at http://archive.ics.uci.edu/ml/datasets/Online+Retail and was donated to the UCI Machine Learning Repository by Dr Daqing Chen.\n",
    "\n",
    "The data consists of 541909 records and 8 attributes:<br>\n",
    "\n",
    "<b>InvoiceNo</b>: Invoice number. Nominal, a 6-digit integral number uniquely assigned to each transaction. If this code starts with letter 'c', it indicates a cancellation.<br>\n",
    "<b>StockCode</b>: Product (item) code. Nominal, a 5-digit integral number uniquely assigned to each distinct product.<br>\n",
    "<b>Description</b>: Product (item) name. Nominal.<br>\n",
    "<b>Quantity</b>: The quantities of each product (item) per transaction. Numeric.<br>\n",
    "<b>InvoiceDate</b>: Invice Date and time. Numeric, the day and time when each transaction was generated.<br>\n",
    "<b>UnitPrice</b>: Unit price. Numeric, Product price per unit in sterling.<br>\n",
    "<b>CustomerID</b>: Customer number. Nominal, a 5-digit integral number uniquely assigned to each customer.<br>\n",
    "<b>Country</b>: Country name. Nominal, the name of the country where each customer resides.<br>"
   ]
  },
  {
   "cell_type": "markdown",
   "metadata": {},
   "source": [
    "### Imports\n",
    "Import libraries and write settings here."
   ]
  },
  {
   "cell_type": "code",
   "execution_count": 1,
   "metadata": {
    "ExecuteTime": {
     "end_time": "2020-12-24T17:06:13.051498Z",
     "start_time": "2020-12-24T17:06:10.775500Z"
    }
   },
   "outputs": [],
   "source": [
    "# Data manipulation\n",
    "import datetime\n",
    "from mlxtend.frequent_patterns import apriori\n",
    "from mlxtend.frequent_patterns import association_rules\n",
    "from mlxtend.preprocessing import TransactionEncoder\n",
    "import pandas as pd\n",
    "import numpy as np\n",
    "\n",
    "\n",
    "# Options for pandas\n",
    "pd.options.display.max_columns = 50\n",
    "pd.options.display.max_rows = 50\n",
    "pd.options.display.width = 100\n",
    "\n",
    "# Display all cell outputs\n",
    "from IPython.core.interactiveshell import InteractiveShell\n",
    "InteractiveShell.ast_node_interactivity = 'all'\n",
    "\n",
    "from IPython import get_ipython\n",
    "ipython = get_ipython()\n",
    "\n",
    "# autoreload extension\n",
    "if 'autoreload' not in ipython.extension_manager.loaded:\n",
    "    %load_ext autoreload\n",
    "\n",
    "%autoreload 2\n",
    "\n",
    "# Visualizations\n",
    "import matplotlib.pyplot as plt\n",
    "%matplotlib inline\n",
    "import seaborn as sns \n",
    "sns.set()"
   ]
  },
  {
   "cell_type": "markdown",
   "metadata": {},
   "source": [
    "# Data Processing\n",
    "Clean up columns and datatypes to prepare for analysis"
   ]
  },
  {
   "cell_type": "code",
   "execution_count": 2,
   "metadata": {
    "ExecuteTime": {
     "end_time": "2020-12-24T17:06:14.215500Z",
     "start_time": "2020-12-24T17:06:13.053500Z"
    }
   },
   "outputs": [
    {
     "name": "stdout",
     "output_type": "stream",
     "text": [
      "<class 'pandas.core.frame.DataFrame'>\n",
      "RangeIndex: 541909 entries, 0 to 541908\n",
      "Data columns (total 8 columns):\n",
      " #   Column       Non-Null Count   Dtype  \n",
      "---  ------       --------------   -----  \n",
      " 0   InvoiceNo    541909 non-null  object \n",
      " 1   StockCode    541909 non-null  object \n",
      " 2   Description  540455 non-null  object \n",
      " 3   Quantity     541909 non-null  int64  \n",
      " 4   InvoiceDate  541909 non-null  object \n",
      " 5   UnitPrice    541909 non-null  float64\n",
      " 6   CustomerID   406829 non-null  float64\n",
      " 7   Country      541909 non-null  object \n",
      "dtypes: float64(2), int64(1), object(5)\n",
      "memory usage: 33.1+ MB\n"
     ]
    },
    {
     "data": {
      "text/html": [
       "<div>\n",
       "<style scoped>\n",
       "    .dataframe tbody tr th:only-of-type {\n",
       "        vertical-align: middle;\n",
       "    }\n",
       "\n",
       "    .dataframe tbody tr th {\n",
       "        vertical-align: top;\n",
       "    }\n",
       "\n",
       "    .dataframe thead th {\n",
       "        text-align: right;\n",
       "    }\n",
       "</style>\n",
       "<table border=\"1\" class=\"dataframe\">\n",
       "  <thead>\n",
       "    <tr style=\"text-align: right;\">\n",
       "      <th></th>\n",
       "      <th>InvoiceNo</th>\n",
       "      <th>StockCode</th>\n",
       "      <th>Description</th>\n",
       "      <th>Quantity</th>\n",
       "      <th>InvoiceDate</th>\n",
       "      <th>UnitPrice</th>\n",
       "      <th>CustomerID</th>\n",
       "      <th>Country</th>\n",
       "    </tr>\n",
       "  </thead>\n",
       "  <tbody>\n",
       "    <tr>\n",
       "      <th>209268</th>\n",
       "      <td>555200</td>\n",
       "      <td>71459</td>\n",
       "      <td>HANGING JAM JAR T-LIGHT HOLDER</td>\n",
       "      <td>24</td>\n",
       "      <td>6/1/2011 12:05</td>\n",
       "      <td>0.85</td>\n",
       "      <td>17315.0</td>\n",
       "      <td>United Kingdom</td>\n",
       "    </tr>\n",
       "    <tr>\n",
       "      <th>207108</th>\n",
       "      <td>554974</td>\n",
       "      <td>21128</td>\n",
       "      <td>GOLD FISHING GNOME</td>\n",
       "      <td>4</td>\n",
       "      <td>5/27/2011 17:14</td>\n",
       "      <td>6.95</td>\n",
       "      <td>14031.0</td>\n",
       "      <td>United Kingdom</td>\n",
       "    </tr>\n",
       "    <tr>\n",
       "      <th>167085</th>\n",
       "      <td>550972</td>\n",
       "      <td>21086</td>\n",
       "      <td>SET/6 RED SPOTTY PAPER CUPS</td>\n",
       "      <td>4</td>\n",
       "      <td>4/21/2011 17:05</td>\n",
       "      <td>0.65</td>\n",
       "      <td>14031.0</td>\n",
       "      <td>United Kingdom</td>\n",
       "    </tr>\n",
       "    <tr>\n",
       "      <th>471836</th>\n",
       "      <td>576652</td>\n",
       "      <td>22812</td>\n",
       "      <td>PACK 3 BOXES CHRISTMAS PANETTONE</td>\n",
       "      <td>3</td>\n",
       "      <td>11/16/2011 10:39</td>\n",
       "      <td>1.95</td>\n",
       "      <td>17198.0</td>\n",
       "      <td>United Kingdom</td>\n",
       "    </tr>\n",
       "    <tr>\n",
       "      <th>115865</th>\n",
       "      <td>546157</td>\n",
       "      <td>22180</td>\n",
       "      <td>RETROSPOT LAMP</td>\n",
       "      <td>2</td>\n",
       "      <td>3/10/2011 8:40</td>\n",
       "      <td>9.95</td>\n",
       "      <td>13502.0</td>\n",
       "      <td>United Kingdom</td>\n",
       "    </tr>\n",
       "    <tr>\n",
       "      <th>465024</th>\n",
       "      <td>576200</td>\n",
       "      <td>82482</td>\n",
       "      <td>WOODEN PICTURE FRAME WHITE FINISH</td>\n",
       "      <td>2</td>\n",
       "      <td>11/14/2011 12:14</td>\n",
       "      <td>2.95</td>\n",
       "      <td>15572.0</td>\n",
       "      <td>United Kingdom</td>\n",
       "    </tr>\n",
       "    <tr>\n",
       "      <th>477777</th>\n",
       "      <td>577076</td>\n",
       "      <td>22614</td>\n",
       "      <td>PACK OF 12 SPACEBOY TISSUES</td>\n",
       "      <td>12</td>\n",
       "      <td>11/17/2011 15:08</td>\n",
       "      <td>0.39</td>\n",
       "      <td>14362.0</td>\n",
       "      <td>United Kingdom</td>\n",
       "    </tr>\n",
       "    <tr>\n",
       "      <th>367855</th>\n",
       "      <td>568909</td>\n",
       "      <td>22596</td>\n",
       "      <td>CHRISTMAS STAR WISH LIST CHALKBOARD</td>\n",
       "      <td>12</td>\n",
       "      <td>9/29/2011 13:38</td>\n",
       "      <td>1.25</td>\n",
       "      <td>16818.0</td>\n",
       "      <td>United Kingdom</td>\n",
       "    </tr>\n",
       "    <tr>\n",
       "      <th>491657</th>\n",
       "      <td>578072</td>\n",
       "      <td>21109</td>\n",
       "      <td>LARGE CAKE TOWEL CHOCOLATE SPOTS</td>\n",
       "      <td>1</td>\n",
       "      <td>11/22/2011 16:02</td>\n",
       "      <td>6.75</td>\n",
       "      <td>17759.0</td>\n",
       "      <td>United Kingdom</td>\n",
       "    </tr>\n",
       "    <tr>\n",
       "      <th>269641</th>\n",
       "      <td>560491</td>\n",
       "      <td>23297</td>\n",
       "      <td>SET 40 HEART SHAPE PETIT FOUR CASES</td>\n",
       "      <td>2</td>\n",
       "      <td>7/19/2011 10:51</td>\n",
       "      <td>1.65</td>\n",
       "      <td>12415.0</td>\n",
       "      <td>Australia</td>\n",
       "    </tr>\n",
       "    <tr>\n",
       "      <th>111488</th>\n",
       "      <td>545721</td>\n",
       "      <td>82484</td>\n",
       "      <td>WOOD BLACK BOARD ANT WHITE FINISH</td>\n",
       "      <td>1</td>\n",
       "      <td>3/7/2011 10:52</td>\n",
       "      <td>7.90</td>\n",
       "      <td>15039.0</td>\n",
       "      <td>United Kingdom</td>\n",
       "    </tr>\n",
       "    <tr>\n",
       "      <th>427787</th>\n",
       "      <td>573399</td>\n",
       "      <td>21108</td>\n",
       "      <td>FAIRY CAKE FLANNEL ASSORTED COLOUR</td>\n",
       "      <td>18</td>\n",
       "      <td>10/30/2011 15:35</td>\n",
       "      <td>0.79</td>\n",
       "      <td>13949.0</td>\n",
       "      <td>United Kingdom</td>\n",
       "    </tr>\n",
       "    <tr>\n",
       "      <th>175354</th>\n",
       "      <td>551954</td>\n",
       "      <td>22799</td>\n",
       "      <td>SWEETHEART WIRE FRUIT BOWL</td>\n",
       "      <td>1</td>\n",
       "      <td>5/5/2011 12:13</td>\n",
       "      <td>8.50</td>\n",
       "      <td>14515.0</td>\n",
       "      <td>United Kingdom</td>\n",
       "    </tr>\n",
       "    <tr>\n",
       "      <th>306249</th>\n",
       "      <td>563745</td>\n",
       "      <td>22115</td>\n",
       "      <td>METAL SIGN EMPIRE TEA</td>\n",
       "      <td>12</td>\n",
       "      <td>8/19/2011 9:38</td>\n",
       "      <td>0.79</td>\n",
       "      <td>15159.0</td>\n",
       "      <td>United Kingdom</td>\n",
       "    </tr>\n",
       "    <tr>\n",
       "      <th>47558</th>\n",
       "      <td>540418</td>\n",
       "      <td>22161</td>\n",
       "      <td>HEART DECORATION RUSTIC HANGING</td>\n",
       "      <td>5</td>\n",
       "      <td>1/7/2011 11:04</td>\n",
       "      <td>0.81</td>\n",
       "      <td>NaN</td>\n",
       "      <td>United Kingdom</td>\n",
       "    </tr>\n",
       "  </tbody>\n",
       "</table>\n",
       "</div>"
      ],
      "text/plain": [
       "       InvoiceNo StockCode                          Description  Quantity       InvoiceDate  \\\n",
       "209268    555200     71459       HANGING JAM JAR T-LIGHT HOLDER        24    6/1/2011 12:05   \n",
       "207108    554974     21128                   GOLD FISHING GNOME         4   5/27/2011 17:14   \n",
       "167085    550972     21086          SET/6 RED SPOTTY PAPER CUPS         4   4/21/2011 17:05   \n",
       "471836    576652     22812     PACK 3 BOXES CHRISTMAS PANETTONE         3  11/16/2011 10:39   \n",
       "115865    546157     22180                       RETROSPOT LAMP         2    3/10/2011 8:40   \n",
       "465024    576200     82482    WOODEN PICTURE FRAME WHITE FINISH         2  11/14/2011 12:14   \n",
       "477777    577076     22614          PACK OF 12 SPACEBOY TISSUES        12  11/17/2011 15:08   \n",
       "367855    568909     22596  CHRISTMAS STAR WISH LIST CHALKBOARD        12   9/29/2011 13:38   \n",
       "491657    578072     21109     LARGE CAKE TOWEL CHOCOLATE SPOTS         1  11/22/2011 16:02   \n",
       "269641    560491     23297  SET 40 HEART SHAPE PETIT FOUR CASES         2   7/19/2011 10:51   \n",
       "111488    545721     82484    WOOD BLACK BOARD ANT WHITE FINISH         1    3/7/2011 10:52   \n",
       "427787    573399     21108   FAIRY CAKE FLANNEL ASSORTED COLOUR        18  10/30/2011 15:35   \n",
       "175354    551954     22799           SWEETHEART WIRE FRUIT BOWL         1    5/5/2011 12:13   \n",
       "306249    563745     22115                METAL SIGN EMPIRE TEA        12    8/19/2011 9:38   \n",
       "47558     540418     22161     HEART DECORATION RUSTIC HANGING          5    1/7/2011 11:04   \n",
       "\n",
       "        UnitPrice  CustomerID         Country  \n",
       "209268       0.85     17315.0  United Kingdom  \n",
       "207108       6.95     14031.0  United Kingdom  \n",
       "167085       0.65     14031.0  United Kingdom  \n",
       "471836       1.95     17198.0  United Kingdom  \n",
       "115865       9.95     13502.0  United Kingdom  \n",
       "465024       2.95     15572.0  United Kingdom  \n",
       "477777       0.39     14362.0  United Kingdom  \n",
       "367855       1.25     16818.0  United Kingdom  \n",
       "491657       6.75     17759.0  United Kingdom  \n",
       "269641       1.65     12415.0       Australia  \n",
       "111488       7.90     15039.0  United Kingdom  \n",
       "427787       0.79     13949.0  United Kingdom  \n",
       "175354       8.50     14515.0  United Kingdom  \n",
       "306249       0.79     15159.0  United Kingdom  \n",
       "47558        0.81         NaN  United Kingdom  "
      ]
     },
     "execution_count": 2,
     "metadata": {},
     "output_type": "execute_result"
    }
   ],
   "source": [
    "# read in the data\n",
    "file = \"C:/Users/Jeff/data/Online Retail.csv\"\n",
    "df = pd.read_csv(file)\n",
    "#inspect dtypes and counts\n",
    "df.info()\n",
    "#quick sample of the data\n",
    "df.sample(n = 15, random_state = 42)"
   ]
  },
  {
   "cell_type": "markdown",
   "metadata": {},
   "source": [
    "I had quickly profiled the data ahead of loading the data in this nootbook to check for anomalies or other issues using the Excel filtering feature. A few things that stood out from that quik scan that need to be quickly taken care of are:\n",
    "\n",
    "1. Null values for product descriptions in 'Description' attribute (1454 obs)\n",
    "2. Whitespace issues in the product descriptions (4223 obs originally, 4211 obs after cleanup)\n",
    "3. Some 'InvoiceNo' values contain a 'C', which appear to indicate cancelations, discounts, and returns and so are not real purchases (9288 obs)\n",
    "4. There are records where the 'Quantity' is negative. This appears to also indicate fees or returns. I worry keeping these in will be false associations and therefore may influence the association algorithm (10624 obs)"
   ]
  },
  {
   "cell_type": "code",
   "execution_count": 3,
   "metadata": {
    "ExecuteTime": {
     "end_time": "2020-12-24T17:06:14.569501Z",
     "start_time": "2020-12-24T17:06:14.218501Z"
    }
   },
   "outputs": [
    {
     "data": {
      "text/plain": [
       "InvoiceNo           0\n",
       "StockCode           0\n",
       "Description      1454\n",
       "Quantity            0\n",
       "InvoiceDate         0\n",
       "UnitPrice           0\n",
       "CustomerID     135080\n",
       "Country             0\n",
       "dtype: int64"
      ]
     },
     "execution_count": 3,
     "metadata": {},
     "output_type": "execute_result"
    }
   ],
   "source": [
    "# checking for null values in the data\n",
    "df.isnull().sum()"
   ]
  },
  {
   "cell_type": "markdown",
   "metadata": {},
   "source": [
    "There are nulls found in the 'Description' and 'CustomerID' attributes. Since I am unaware of what the products are without a description and have no way to fill them, I will remove them for simplicity's sake. The nulls for 'CustomerID' will not affect this analysis and so we will do nothing there."
   ]
  },
  {
   "cell_type": "code",
   "execution_count": 4,
   "metadata": {
    "ExecuteTime": {
     "end_time": "2020-12-24T17:06:14.899498Z",
     "start_time": "2020-12-24T17:06:14.573503Z"
    }
   },
   "outputs": [],
   "source": [
    "# drop records where product description is null\n",
    "df = df.dropna(subset = ['Description'])"
   ]
  },
  {
   "cell_type": "code",
   "execution_count": 5,
   "metadata": {
    "ExecuteTime": {
     "end_time": "2020-12-24T17:06:15.365501Z",
     "start_time": "2020-12-24T17:06:14.901500Z"
    }
   },
   "outputs": [],
   "source": [
    "# remove white space from the description text\n",
    "df['Description'] = df['Description'].str.strip()"
   ]
  },
  {
   "cell_type": "code",
   "execution_count": 6,
   "metadata": {
    "ExecuteTime": {
     "end_time": "2020-12-24T17:06:15.678501Z",
     "start_time": "2020-12-24T17:06:15.368499Z"
    }
   },
   "outputs": [
    {
     "name": "stdout",
     "output_type": "stream",
     "text": [
      "Total products: 4211\n"
     ]
    }
   ],
   "source": [
    "# confirm count of all unique products\n",
    "all_products = df['Description'].unique()\n",
    "print(\"Total products: {}\".format(len(all_products)))"
   ]
  },
  {
   "cell_type": "code",
   "execution_count": 7,
   "metadata": {
    "ExecuteTime": {
     "end_time": "2020-12-24T17:06:15.936500Z",
     "start_time": "2020-12-24T17:06:15.684502Z"
    }
   },
   "outputs": [
    {
     "name": "stdout",
     "output_type": "stream",
     "text": [
      "Before dropping negative Quantity: 540455\n",
      "After dropping negative Quantity: 530693\n"
     ]
    }
   ],
   "source": [
    "# drop all rows with negative 'Quantity' - this should also remove all 'TransactionID' instances containing \"C\"\n",
    "before = len(df)\n",
    "print(\"Before dropping negative Quantity: \" + str(before))\n",
    "df = df.loc[df['Quantity']> 0]\n",
    "after = len(df)\n",
    "print(\"After dropping negative Quantity: \" + str(after))"
   ]
  },
  {
   "cell_type": "code",
   "execution_count": 8,
   "metadata": {
    "ExecuteTime": {
     "end_time": "2020-12-24T17:06:16.485499Z",
     "start_time": "2020-12-24T17:06:15.941504Z"
    }
   },
   "outputs": [
    {
     "name": "stdout",
     "output_type": "stream",
     "text": [
      "Count of InvoiceNo that contain 'C': 0\n"
     ]
    }
   ],
   "source": [
    "# double check that no 'TransactionID' contain \"C\"\n",
    "has_C = df['InvoiceNo'].str.contains(\"C\").sum()\n",
    "\n",
    "print(\"Count of InvoiceNo that contain \\'C\\': {}\" .format(has_C))"
   ]
  },
  {
   "cell_type": "markdown",
   "metadata": {},
   "source": [
    "<b>The following piece of code below comes from the \"Practical Business Python\" blog https://pbpython.com/market-basket-analysis.html.\n",
    "I appreciate how simple and clean the approach is to convert the dataset to one-hot encoding for Association Analysis via groupby and a helper function.</b>"
   ]
  },
  {
   "cell_type": "code",
   "execution_count": 9,
   "metadata": {
    "ExecuteTime": {
     "end_time": "2020-12-24T17:06:45.271617Z",
     "start_time": "2020-12-24T17:06:16.487500Z"
    }
   },
   "outputs": [],
   "source": [
    "# lets just work only with the UK, grouped by invoice and description, unstacked and fill all null values with 0\n",
    "sales_UK = (df[df['Country'] == \"United Kingdom\"].groupby(['InvoiceNo', 'Description'])['Quantity'].sum()\n",
    "    .unstack().reset_index().fillna(0)\n",
    "    .set_index('InvoiceNo')\n",
    "           )\n",
    "\n",
    "# next we convert all counts to 0 or 1 using a helper function\n",
    "def encode(x):\n",
    "    if x <= 0:\n",
    "        return 0\n",
    "    if x >= 1:\n",
    "        return 1\n",
    "\n",
    "sales = sales_UK.applymap(encode)"
   ]
  },
  {
   "cell_type": "code",
   "execution_count": 10,
   "metadata": {
    "ExecuteTime": {
     "end_time": "2020-12-24T17:06:45.399598Z",
     "start_time": "2020-12-24T17:06:45.273589Z"
    }
   },
   "outputs": [
    {
     "data": {
      "text/plain": [
       "(18194, 4046)"
      ]
     },
     "execution_count": 10,
     "metadata": {},
     "output_type": "execute_result"
    },
    {
     "data": {
      "text/plain": [
       "(18194, 4046)"
      ]
     },
     "execution_count": 10,
     "metadata": {},
     "output_type": "execute_result"
    }
   ],
   "source": [
    "sales_UK.shape"
   ]
  },
  {
   "cell_type": "markdown",
   "metadata": {},
   "source": [
    "# Analysis/Modeling\n"
   ]
  },
  {
   "cell_type": "markdown",
   "metadata": {
    "ExecuteTime": {
     "end_time": "2020-12-20T19:51:40.750407Z",
     "start_time": "2020-12-20T19:51:40.413397Z"
    }
   },
   "source": [
    "The transformed data now consists of 18,194 unique transactions and 4046 unique products. I will now begin working with the mlxtend library for \"apriori\" and \"association rules\" to identify any unique product associations in the data. First I need to establish my floor support on interesting transactions.<br><br>\n",
    "<b>Support</b> refers to how frequently an itemset is occuring in the data. I am using a minimum support here of 0.03, which seems sensible given the amount of transactions we are analyzing. "
   ]
  },
  {
   "cell_type": "code",
   "execution_count": 11,
   "metadata": {
    "ExecuteTime": {
     "end_time": "2020-12-24T17:06:48.645171Z",
     "start_time": "2020-12-24T17:06:45.403655Z"
    }
   },
   "outputs": [
    {
     "name": "stdout",
     "output_type": "stream",
     "text": [
      "140 itemsets have been identified\n"
     ]
    }
   ],
   "source": [
    "frequent_itemsets = apriori(sales, min_support=0.03, use_colnames=True)\n",
    "print(\"{} itemsets have been identified\".format(len(frequent_itemsets)))"
   ]
  },
  {
   "cell_type": "markdown",
   "metadata": {},
   "source": [
    "Next, I am going to call the association rules to find our interesting rules in the data. In the arguments I am using the <b>lift</b> metric which is a ratio of the observed support where the consequent will happen given the antecedent, divided by the probability that they both occur by chance.<br>\n",
    "- When **lift equals 1**, then the antecedent and consequent are independent of eachother and do not have a relationship. \n",
    "- When **lift \\< 1**, then the less chance there is that the occurence of the consequent will happen given the antecedent meaning that their relationship is negative\n",
    "- When **lift > 1**, then the more likely that the occurence of the consequent will happen given the antecedent and so we have a positive relationship\n",
    "\n",
    "So in this case, I will be wanting to find all rules where the lift is greater than 1 which indicates a poitive relationship."
   ]
  },
  {
   "cell_type": "code",
   "execution_count": 12,
   "metadata": {
    "ExecuteTime": {
     "end_time": "2020-12-24T17:06:48.770172Z",
     "start_time": "2020-12-24T17:06:48.647170Z"
    }
   },
   "outputs": [
    {
     "name": "stdout",
     "output_type": "stream",
     "text": [
      "20 rules have been identified\n"
     ]
    }
   ],
   "source": [
    "rules = association_rules(frequent_itemsets, metric=\"lift\", min_threshold=1)\n",
    "print (\"{} rules have been identified\".format(len(rules)))"
   ]
  },
  {
   "cell_type": "markdown",
   "metadata": {},
   "source": [
    "# Results\n"
   ]
  },
  {
   "cell_type": "markdown",
   "metadata": {},
   "source": [
    "Below are the resulting rules that were identified per my parameters of a \"Support\" of 0.03 and a \"Lift\" minimum of 1. I am sorting the results by strength of the rules' \"Confidence\""
   ]
  },
  {
   "cell_type": "code",
   "execution_count": 13,
   "metadata": {
    "ExecuteTime": {
     "end_time": "2020-12-24T17:06:48.927178Z",
     "start_time": "2020-12-24T17:06:48.773179Z"
    }
   },
   "outputs": [
    {
     "data": {
      "text/html": [
       "<div>\n",
       "<style scoped>\n",
       "    .dataframe tbody tr th:only-of-type {\n",
       "        vertical-align: middle;\n",
       "    }\n",
       "\n",
       "    .dataframe tbody tr th {\n",
       "        vertical-align: top;\n",
       "    }\n",
       "\n",
       "    .dataframe thead th {\n",
       "        text-align: right;\n",
       "    }\n",
       "</style>\n",
       "<table border=\"1\" class=\"dataframe\">\n",
       "  <thead>\n",
       "    <tr style=\"text-align: right;\">\n",
       "      <th></th>\n",
       "      <th>antecedents</th>\n",
       "      <th>consequents</th>\n",
       "      <th>antecedent support</th>\n",
       "      <th>consequent support</th>\n",
       "      <th>support</th>\n",
       "      <th>confidence</th>\n",
       "      <th>lift</th>\n",
       "      <th>leverage</th>\n",
       "      <th>conviction</th>\n",
       "    </tr>\n",
       "  </thead>\n",
       "  <tbody>\n",
       "    <tr>\n",
       "      <th>3</th>\n",
       "      <td>(PINK REGENCY TEACUP AND SAUCER)</td>\n",
       "      <td>(GREEN REGENCY TEACUP AND SAUCER)</td>\n",
       "      <td>0.038639</td>\n",
       "      <td>0.051336</td>\n",
       "      <td>0.031714</td>\n",
       "      <td>0.820768</td>\n",
       "      <td>15.988282</td>\n",
       "      <td>0.029730</td>\n",
       "      <td>5.292945</td>\n",
       "    </tr>\n",
       "    <tr>\n",
       "      <th>19</th>\n",
       "      <td>(PINK REGENCY TEACUP AND SAUCER)</td>\n",
       "      <td>(ROSES REGENCY TEACUP AND SAUCER)</td>\n",
       "      <td>0.038639</td>\n",
       "      <td>0.052600</td>\n",
       "      <td>0.030010</td>\n",
       "      <td>0.776671</td>\n",
       "      <td>14.765684</td>\n",
       "      <td>0.027977</td>\n",
       "      <td>4.242181</td>\n",
       "    </tr>\n",
       "    <tr>\n",
       "      <th>4</th>\n",
       "      <td>(GREEN REGENCY TEACUP AND SAUCER)</td>\n",
       "      <td>(ROSES REGENCY TEACUP AND SAUCER)</td>\n",
       "      <td>0.051336</td>\n",
       "      <td>0.052600</td>\n",
       "      <td>0.038529</td>\n",
       "      <td>0.750535</td>\n",
       "      <td>14.268798</td>\n",
       "      <td>0.035829</td>\n",
       "      <td>3.797733</td>\n",
       "    </tr>\n",
       "    <tr>\n",
       "      <th>5</th>\n",
       "      <td>(ROSES REGENCY TEACUP AND SAUCER)</td>\n",
       "      <td>(GREEN REGENCY TEACUP AND SAUCER)</td>\n",
       "      <td>0.052600</td>\n",
       "      <td>0.051336</td>\n",
       "      <td>0.038529</td>\n",
       "      <td>0.732497</td>\n",
       "      <td>14.268798</td>\n",
       "      <td>0.035829</td>\n",
       "      <td>3.546374</td>\n",
       "    </tr>\n",
       "    <tr>\n",
       "      <th>9</th>\n",
       "      <td>(JUMBO BAG PINK POLKADOT)</td>\n",
       "      <td>(JUMBO BAG RED RETROSPOT)</td>\n",
       "      <td>0.063702</td>\n",
       "      <td>0.106519</td>\n",
       "      <td>0.043146</td>\n",
       "      <td>0.677308</td>\n",
       "      <td>6.358587</td>\n",
       "      <td>0.036361</td>\n",
       "      <td>2.768837</td>\n",
       "    </tr>\n",
       "    <tr>\n",
       "      <th>1</th>\n",
       "      <td>(ALARM CLOCK BAKELIKE GREEN)</td>\n",
       "      <td>(ALARM CLOCK BAKELIKE RED)</td>\n",
       "      <td>0.048148</td>\n",
       "      <td>0.051116</td>\n",
       "      <td>0.030944</td>\n",
       "      <td>0.642694</td>\n",
       "      <td>12.573307</td>\n",
       "      <td>0.028483</td>\n",
       "      <td>2.655663</td>\n",
       "    </tr>\n",
       "    <tr>\n",
       "      <th>7</th>\n",
       "      <td>(JUMBO  BAG BAROQUE BLACK WHITE)</td>\n",
       "      <td>(JUMBO BAG RED RETROSPOT)</td>\n",
       "      <td>0.050016</td>\n",
       "      <td>0.106519</td>\n",
       "      <td>0.031329</td>\n",
       "      <td>0.626374</td>\n",
       "      <td>5.880414</td>\n",
       "      <td>0.026001</td>\n",
       "      <td>2.391377</td>\n",
       "    </tr>\n",
       "    <tr>\n",
       "      <th>2</th>\n",
       "      <td>(GREEN REGENCY TEACUP AND SAUCER)</td>\n",
       "      <td>(PINK REGENCY TEACUP AND SAUCER)</td>\n",
       "      <td>0.051336</td>\n",
       "      <td>0.038639</td>\n",
       "      <td>0.031714</td>\n",
       "      <td>0.617773</td>\n",
       "      <td>15.988282</td>\n",
       "      <td>0.029730</td>\n",
       "      <td>2.515157</td>\n",
       "    </tr>\n",
       "    <tr>\n",
       "      <th>12</th>\n",
       "      <td>(JUMBO STORAGE BAG SUKI)</td>\n",
       "      <td>(JUMBO BAG RED RETROSPOT)</td>\n",
       "      <td>0.062108</td>\n",
       "      <td>0.106519</td>\n",
       "      <td>0.038364</td>\n",
       "      <td>0.617699</td>\n",
       "      <td>5.798977</td>\n",
       "      <td>0.031749</td>\n",
       "      <td>2.337116</td>\n",
       "    </tr>\n",
       "    <tr>\n",
       "      <th>0</th>\n",
       "      <td>(ALARM CLOCK BAKELIKE RED)</td>\n",
       "      <td>(ALARM CLOCK BAKELIKE GREEN)</td>\n",
       "      <td>0.051116</td>\n",
       "      <td>0.048148</td>\n",
       "      <td>0.030944</td>\n",
       "      <td>0.605376</td>\n",
       "      <td>12.573307</td>\n",
       "      <td>0.028483</td>\n",
       "      <td>2.412051</td>\n",
       "    </tr>\n",
       "    <tr>\n",
       "      <th>11</th>\n",
       "      <td>(JUMBO SHOPPER VINTAGE RED PAISLEY)</td>\n",
       "      <td>(JUMBO BAG RED RETROSPOT)</td>\n",
       "      <td>0.062273</td>\n",
       "      <td>0.106519</td>\n",
       "      <td>0.036111</td>\n",
       "      <td>0.579876</td>\n",
       "      <td>5.443897</td>\n",
       "      <td>0.029478</td>\n",
       "      <td>2.126711</td>\n",
       "    </tr>\n",
       "    <tr>\n",
       "      <th>18</th>\n",
       "      <td>(ROSES REGENCY TEACUP AND SAUCER)</td>\n",
       "      <td>(PINK REGENCY TEACUP AND SAUCER)</td>\n",
       "      <td>0.052600</td>\n",
       "      <td>0.038639</td>\n",
       "      <td>0.030010</td>\n",
       "      <td>0.570533</td>\n",
       "      <td>14.765684</td>\n",
       "      <td>0.027977</td>\n",
       "      <td>2.238497</td>\n",
       "    </tr>\n",
       "    <tr>\n",
       "      <th>16</th>\n",
       "      <td>(LUNCH BAG PINK POLKADOT)</td>\n",
       "      <td>(LUNCH BAG RED RETROSPOT)</td>\n",
       "      <td>0.055293</td>\n",
       "      <td>0.076509</td>\n",
       "      <td>0.030450</td>\n",
       "      <td>0.550696</td>\n",
       "      <td>7.197816</td>\n",
       "      <td>0.026219</td>\n",
       "      <td>2.055381</td>\n",
       "    </tr>\n",
       "    <tr>\n",
       "      <th>14</th>\n",
       "      <td>(LUNCH BAG  BLACK SKULL.)</td>\n",
       "      <td>(LUNCH BAG RED RETROSPOT)</td>\n",
       "      <td>0.066835</td>\n",
       "      <td>0.076509</td>\n",
       "      <td>0.033363</td>\n",
       "      <td>0.499178</td>\n",
       "      <td>6.524452</td>\n",
       "      <td>0.028249</td>\n",
       "      <td>1.843950</td>\n",
       "    </tr>\n",
       "    <tr>\n",
       "      <th>15</th>\n",
       "      <td>(LUNCH BAG RED RETROSPOT)</td>\n",
       "      <td>(LUNCH BAG  BLACK SKULL.)</td>\n",
       "      <td>0.076509</td>\n",
       "      <td>0.066835</td>\n",
       "      <td>0.033363</td>\n",
       "      <td>0.436063</td>\n",
       "      <td>6.524452</td>\n",
       "      <td>0.028249</td>\n",
       "      <td>1.654733</td>\n",
       "    </tr>\n",
       "    <tr>\n",
       "      <th>8</th>\n",
       "      <td>(JUMBO BAG RED RETROSPOT)</td>\n",
       "      <td>(JUMBO BAG PINK POLKADOT)</td>\n",
       "      <td>0.106519</td>\n",
       "      <td>0.063702</td>\n",
       "      <td>0.043146</td>\n",
       "      <td>0.405057</td>\n",
       "      <td>6.358587</td>\n",
       "      <td>0.036361</td>\n",
       "      <td>1.573760</td>\n",
       "    </tr>\n",
       "    <tr>\n",
       "      <th>17</th>\n",
       "      <td>(LUNCH BAG RED RETROSPOT)</td>\n",
       "      <td>(LUNCH BAG PINK POLKADOT)</td>\n",
       "      <td>0.076509</td>\n",
       "      <td>0.055293</td>\n",
       "      <td>0.030450</td>\n",
       "      <td>0.397989</td>\n",
       "      <td>7.197816</td>\n",
       "      <td>0.026219</td>\n",
       "      <td>1.569251</td>\n",
       "    </tr>\n",
       "    <tr>\n",
       "      <th>13</th>\n",
       "      <td>(JUMBO BAG RED RETROSPOT)</td>\n",
       "      <td>(JUMBO STORAGE BAG SUKI)</td>\n",
       "      <td>0.106519</td>\n",
       "      <td>0.062108</td>\n",
       "      <td>0.038364</td>\n",
       "      <td>0.360165</td>\n",
       "      <td>5.798977</td>\n",
       "      <td>0.031749</td>\n",
       "      <td>1.465834</td>\n",
       "    </tr>\n",
       "    <tr>\n",
       "      <th>10</th>\n",
       "      <td>(JUMBO BAG RED RETROSPOT)</td>\n",
       "      <td>(JUMBO SHOPPER VINTAGE RED PAISLEY)</td>\n",
       "      <td>0.106519</td>\n",
       "      <td>0.062273</td>\n",
       "      <td>0.036111</td>\n",
       "      <td>0.339009</td>\n",
       "      <td>5.443897</td>\n",
       "      <td>0.029478</td>\n",
       "      <td>1.418669</td>\n",
       "    </tr>\n",
       "    <tr>\n",
       "      <th>6</th>\n",
       "      <td>(JUMBO BAG RED RETROSPOT)</td>\n",
       "      <td>(JUMBO  BAG BAROQUE BLACK WHITE)</td>\n",
       "      <td>0.106519</td>\n",
       "      <td>0.050016</td>\n",
       "      <td>0.031329</td>\n",
       "      <td>0.294118</td>\n",
       "      <td>5.880414</td>\n",
       "      <td>0.026001</td>\n",
       "      <td>1.345810</td>\n",
       "    </tr>\n",
       "  </tbody>\n",
       "</table>\n",
       "</div>"
      ],
      "text/plain": [
       "                            antecedents                          consequents  antecedent support  \\\n",
       "3      (PINK REGENCY TEACUP AND SAUCER)    (GREEN REGENCY TEACUP AND SAUCER)            0.038639   \n",
       "19     (PINK REGENCY TEACUP AND SAUCER)    (ROSES REGENCY TEACUP AND SAUCER)            0.038639   \n",
       "4     (GREEN REGENCY TEACUP AND SAUCER)    (ROSES REGENCY TEACUP AND SAUCER)            0.051336   \n",
       "5     (ROSES REGENCY TEACUP AND SAUCER)    (GREEN REGENCY TEACUP AND SAUCER)            0.052600   \n",
       "9             (JUMBO BAG PINK POLKADOT)            (JUMBO BAG RED RETROSPOT)            0.063702   \n",
       "1          (ALARM CLOCK BAKELIKE GREEN)           (ALARM CLOCK BAKELIKE RED)            0.048148   \n",
       "7      (JUMBO  BAG BAROQUE BLACK WHITE)            (JUMBO BAG RED RETROSPOT)            0.050016   \n",
       "2     (GREEN REGENCY TEACUP AND SAUCER)     (PINK REGENCY TEACUP AND SAUCER)            0.051336   \n",
       "12             (JUMBO STORAGE BAG SUKI)            (JUMBO BAG RED RETROSPOT)            0.062108   \n",
       "0            (ALARM CLOCK BAKELIKE RED)         (ALARM CLOCK BAKELIKE GREEN)            0.051116   \n",
       "11  (JUMBO SHOPPER VINTAGE RED PAISLEY)            (JUMBO BAG RED RETROSPOT)            0.062273   \n",
       "18    (ROSES REGENCY TEACUP AND SAUCER)     (PINK REGENCY TEACUP AND SAUCER)            0.052600   \n",
       "16            (LUNCH BAG PINK POLKADOT)            (LUNCH BAG RED RETROSPOT)            0.055293   \n",
       "14            (LUNCH BAG  BLACK SKULL.)            (LUNCH BAG RED RETROSPOT)            0.066835   \n",
       "15            (LUNCH BAG RED RETROSPOT)            (LUNCH BAG  BLACK SKULL.)            0.076509   \n",
       "8             (JUMBO BAG RED RETROSPOT)            (JUMBO BAG PINK POLKADOT)            0.106519   \n",
       "17            (LUNCH BAG RED RETROSPOT)            (LUNCH BAG PINK POLKADOT)            0.076509   \n",
       "13            (JUMBO BAG RED RETROSPOT)             (JUMBO STORAGE BAG SUKI)            0.106519   \n",
       "10            (JUMBO BAG RED RETROSPOT)  (JUMBO SHOPPER VINTAGE RED PAISLEY)            0.106519   \n",
       "6             (JUMBO BAG RED RETROSPOT)     (JUMBO  BAG BAROQUE BLACK WHITE)            0.106519   \n",
       "\n",
       "    consequent support   support  confidence       lift  leverage  conviction  \n",
       "3             0.051336  0.031714    0.820768  15.988282  0.029730    5.292945  \n",
       "19            0.052600  0.030010    0.776671  14.765684  0.027977    4.242181  \n",
       "4             0.052600  0.038529    0.750535  14.268798  0.035829    3.797733  \n",
       "5             0.051336  0.038529    0.732497  14.268798  0.035829    3.546374  \n",
       "9             0.106519  0.043146    0.677308   6.358587  0.036361    2.768837  \n",
       "1             0.051116  0.030944    0.642694  12.573307  0.028483    2.655663  \n",
       "7             0.106519  0.031329    0.626374   5.880414  0.026001    2.391377  \n",
       "2             0.038639  0.031714    0.617773  15.988282  0.029730    2.515157  \n",
       "12            0.106519  0.038364    0.617699   5.798977  0.031749    2.337116  \n",
       "0             0.048148  0.030944    0.605376  12.573307  0.028483    2.412051  \n",
       "11            0.106519  0.036111    0.579876   5.443897  0.029478    2.126711  \n",
       "18            0.038639  0.030010    0.570533  14.765684  0.027977    2.238497  \n",
       "16            0.076509  0.030450    0.550696   7.197816  0.026219    2.055381  \n",
       "14            0.076509  0.033363    0.499178   6.524452  0.028249    1.843950  \n",
       "15            0.066835  0.033363    0.436063   6.524452  0.028249    1.654733  \n",
       "8             0.063702  0.043146    0.405057   6.358587  0.036361    1.573760  \n",
       "17            0.055293  0.030450    0.397989   7.197816  0.026219    1.569251  \n",
       "13            0.062108  0.038364    0.360165   5.798977  0.031749    1.465834  \n",
       "10            0.062273  0.036111    0.339009   5.443897  0.029478    1.418669  \n",
       "6             0.050016  0.031329    0.294118   5.880414  0.026001    1.345810  "
      ]
     },
     "execution_count": 13,
     "metadata": {},
     "output_type": "execute_result"
    }
   ],
   "source": [
    "# display the rules and sort them by confidence greatest to least\n",
    "rules.sort_values(by = \"confidence\", ascending = False)"
   ]
  },
  {
   "cell_type": "markdown",
   "metadata": {},
   "source": [
    "# Conclusions\n"
   ]
  },
  {
   "cell_type": "markdown",
   "metadata": {},
   "source": [
    "Reviewing the list, the first four rules deal with dfferent color options of the \"REGENCY TEACUP AND SAUCER\" products. this implies that there is a strong connection where if a customer purchases a style of these teacups, then they will also buy another style of the same teacup and saucer.<br>\n",
    "\n",
    "The strongest rule, with a support of over 0.03, confidence of 0.82 and lift of 15.98 is the \"PINK REGENCY TEACUP AND SAUCER\", where if it is purchased then it is highly likely that a customer will also buy the \"GREEN REGENCY TEACUP AND SAUCER\".<br>\n",
    "\n",
    "Other items in the list of rules are also similar to the tea cups in that the consequent of a particular rule is a variant style of the atecedent such as alarm clocks of different colors and different styles of bags. These rules make sense to me as the data set represents wholesale customers of this particular online retailer, where the customers will generally need to buy a type of product in a selection of colors or styles for the retail customers.\n",
    "\n",
    "If I was more familiar with the data, I may have other specific ideas/questions that I would like to delve deeper into.<br>\n",
    "If I were to pursue this analysis further, I would also consider running this for each of the countries separately and then comparing the rules to see if there are similar patterns.\n",
    "   "
   ]
  },
  {
   "cell_type": "code",
   "execution_count": null,
   "metadata": {},
   "outputs": [],
   "source": []
  }
 ],
 "metadata": {
  "kernelspec": {
   "display_name": "Python 3",
   "language": "python",
   "name": "python3"
  },
  "language_info": {
   "codemirror_mode": {
    "name": "ipython",
    "version": 3
   },
   "file_extension": ".py",
   "mimetype": "text/x-python",
   "name": "python",
   "nbconvert_exporter": "python",
   "pygments_lexer": "ipython3",
   "version": "3.7.1"
  },
  "toc": {
   "base_numbering": 1,
   "nav_menu": {},
   "number_sections": true,
   "sideBar": true,
   "skip_h1_title": false,
   "title_cell": "Table of Contents",
   "title_sidebar": "Contents",
   "toc_cell": false,
   "toc_position": {},
   "toc_section_display": true,
   "toc_window_display": false
  },
  "varInspector": {
   "cols": {
    "lenName": 16,
    "lenType": 16,
    "lenVar": 40
   },
   "kernels_config": {
    "python": {
     "delete_cmd_postfix": "",
     "delete_cmd_prefix": "del ",
     "library": "var_list.py",
     "varRefreshCmd": "print(var_dic_list())"
    },
    "r": {
     "delete_cmd_postfix": ") ",
     "delete_cmd_prefix": "rm(",
     "library": "var_list.r",
     "varRefreshCmd": "cat(var_dic_list()) "
    }
   },
   "types_to_exclude": [
    "module",
    "function",
    "builtin_function_or_method",
    "instance",
    "_Feature"
   ],
   "window_display": false
  }
 },
 "nbformat": 4,
 "nbformat_minor": 4
}
