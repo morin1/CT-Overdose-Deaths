{
 "cells": [
  {
   "cell_type": "markdown",
   "metadata": {},
   "source": [
    "# Exploring Employee Referrals with Permutation Tests"
   ]
  },
  {
   "cell_type": "markdown",
   "metadata": {},
   "source": [
    "## Introduction\n",
    "For this notebook, the data that I am working with has 1644 observations of 'hourly' employee turnover data from a 2 year period of employees who were either referred by other employees or not. I will be exploring the question of \"whether employee referrals tend to last longer on the job than non-employee referrals\". \n",
    "\n",
    "Each observation is labeled either as an employee referral (1) or non-referral (0). The attributes I will be measureing against are whether an employee has hit or missed a milestone in their tenure at 30 days, 60 days, and 90 days. If an employee has not been hired long enough to hit a milestone, then that milestone will be a null value, otherwise it is counted as 1 for successfully hitting the milestone and 0 for failing to hit the milestone.\n",
    "\n",
    "<b>My null hypothesis is that there is NO difference between tenure of referrals vs non-referrals.</b> \n",
    "\n",
    "To answer these questions, I will be using permutation tests with histograms to look at statistical significance of the initial observations. A permutation test will randomly sample and reallocate the groups of 30 60 and 90 days 1000 times to test against the actual observation. This will help to show whether the initial observations fall within the distribution that chance produced."
   ]
  },
  {
   "cell_type": "markdown",
   "metadata": {},
   "source": [
    "### Changes\n",
    "List dates and brief description\n",
    "\n",
    "08/01/2020: Initiated notebook"
   ]
  },
  {
   "cell_type": "markdown",
   "metadata": {},
   "source": [
    "### Imports\n",
    "Import libraries and write settings here."
   ]
  },
  {
   "cell_type": "code",
   "execution_count": 1,
   "metadata": {
    "ExecuteTime": {
     "end_time": "2020-08-06T18:55:02.836721Z",
     "start_time": "2020-08-06T18:55:01.079723Z"
    }
   },
   "outputs": [],
   "source": [
    "# Data manipulation\n",
    "import csv\n",
    "import datetime\n",
    "import pandas as pd\n",
    "import numpy as np\n",
    "\n",
    "# Options for pandas\n",
    "pd.options.display.max_columns = 50\n",
    "pd.options.display.max_rows = 50\n",
    "pd.options.display.width = 100\n",
    "\n",
    "# Display all cell outputs\n",
    "from IPython.core.interactiveshell import InteractiveShell\n",
    "InteractiveShell.ast_node_interactivity = 'all'\n",
    "\n",
    "from IPython import get_ipython\n",
    "ipython = get_ipython()\n",
    "\n",
    "# autoreload extension\n",
    "if 'autoreload' not in ipython.extension_manager.loaded:\n",
    "    %load_ext autoreload\n",
    "\n",
    "%autoreload 2\n",
    "\n",
    "# Visualizations\n",
    "import matplotlib.pyplot as plt\n",
    "%matplotlib inline\n",
    "import seaborn as sns \n",
    "sns.set()\n",
    "sns.set_style(\"whitegrid\", {'axes.grid' : False})"
   ]
  },
  {
   "cell_type": "markdown",
   "metadata": {},
   "source": [
    "# Data Processing\n",
    "Review data and clean up columns and datatypes to prepare for analysis as needed"
   ]
  },
  {
   "cell_type": "code",
   "execution_count": 2,
   "metadata": {
    "ExecuteTime": {
     "end_time": "2020-08-06T18:55:03.029722Z",
     "start_time": "2020-08-06T18:55:02.839723Z"
    }
   },
   "outputs": [],
   "source": [
    "# The data was cleand and processed previous to this project\n",
    "\n",
    "# read in the referred applicant data\n",
    "file = \"C:/Users/Jeff/Desktop/Projects/Data Science Portfolio/Employee Referrals/employees.csv\"\n",
    "\n",
    "# changing dtypes on attributes to handle null values\n",
    "col_dtype = {'success_15': 'Int64','success_30': 'Int64','success_60': 'Int64','success_90': 'Int64'}\n",
    "\n",
    "df = pd.read_csv(file, dtype=col_dtype)"
   ]
  },
  {
   "cell_type": "code",
   "execution_count": 3,
   "metadata": {
    "ExecuteTime": {
     "end_time": "2020-08-06T18:55:03.245721Z",
     "start_time": "2020-08-06T18:55:03.045724Z"
    }
   },
   "outputs": [
    {
     "name": "stdout",
     "output_type": "stream",
     "text": [
      "<class 'pandas.core.frame.DataFrame'>\n",
      "RangeIndex: 1644 entries, 0 to 1643\n",
      "Data columns (total 8 columns):\n",
      " #   Column            Non-Null Count  Dtype \n",
      "---  ------            --------------  ----- \n",
      " 0   employee_num      1644 non-null   int64 \n",
      " 1   hire_date         1644 non-null   object\n",
      " 2   termination_date  1136 non-null   object\n",
      " 3   success_15        1411 non-null   Int64 \n",
      " 4   success_30        1394 non-null   Int64 \n",
      " 5   success_60        1349 non-null   Int64 \n",
      " 6   success_90        1247 non-null   Int64 \n",
      " 7   referral          1644 non-null   int64 \n",
      "dtypes: Int64(4), int64(2), object(2)\n",
      "memory usage: 96.4+ KB\n"
     ]
    }
   ],
   "source": [
    "# explore the quick info about the dataset\n",
    "df.info()"
   ]
  },
  {
   "cell_type": "code",
   "execution_count": 4,
   "metadata": {
    "ExecuteTime": {
     "end_time": "2020-08-06T18:55:03.442728Z",
     "start_time": "2020-08-06T18:55:03.248740Z"
    },
    "scrolled": true
   },
   "outputs": [
    {
     "data": {
      "text/html": [
       "<div>\n",
       "<style scoped>\n",
       "    .dataframe tbody tr th:only-of-type {\n",
       "        vertical-align: middle;\n",
       "    }\n",
       "\n",
       "    .dataframe tbody tr th {\n",
       "        vertical-align: top;\n",
       "    }\n",
       "\n",
       "    .dataframe thead th {\n",
       "        text-align: right;\n",
       "    }\n",
       "</style>\n",
       "<table border=\"1\" class=\"dataframe\">\n",
       "  <thead>\n",
       "    <tr style=\"text-align: right;\">\n",
       "      <th></th>\n",
       "      <th>employee_num</th>\n",
       "      <th>hire_date</th>\n",
       "      <th>termination_date</th>\n",
       "      <th>success_15</th>\n",
       "      <th>success_30</th>\n",
       "      <th>success_60</th>\n",
       "      <th>success_90</th>\n",
       "      <th>referral</th>\n",
       "    </tr>\n",
       "  </thead>\n",
       "  <tbody>\n",
       "    <tr>\n",
       "      <th>679</th>\n",
       "      <td>26806</td>\n",
       "      <td>2019-10-04 00:00:00+00:00</td>\n",
       "      <td>NaN</td>\n",
       "      <td>1</td>\n",
       "      <td>1</td>\n",
       "      <td>1</td>\n",
       "      <td>1</td>\n",
       "      <td>0</td>\n",
       "    </tr>\n",
       "    <tr>\n",
       "      <th>1101</th>\n",
       "      <td>21612</td>\n",
       "      <td>2019-10-23 00:00:00+00:00</td>\n",
       "      <td>NaN</td>\n",
       "      <td>1</td>\n",
       "      <td>1</td>\n",
       "      <td>1</td>\n",
       "      <td>1</td>\n",
       "      <td>0</td>\n",
       "    </tr>\n",
       "    <tr>\n",
       "      <th>1516</th>\n",
       "      <td>41652</td>\n",
       "      <td>2020-03-02 00:00:00+00:00</td>\n",
       "      <td>2020-04-15 00:00:00+00:00</td>\n",
       "      <td>1</td>\n",
       "      <td>1</td>\n",
       "      <td>0</td>\n",
       "      <td>&lt;NA&gt;</td>\n",
       "      <td>0</td>\n",
       "    </tr>\n",
       "    <tr>\n",
       "      <th>1403</th>\n",
       "      <td>28534</td>\n",
       "      <td>2019-10-23 00:00:00+00:00</td>\n",
       "      <td>2020-01-29 00:00:00+00:00</td>\n",
       "      <td>1</td>\n",
       "      <td>1</td>\n",
       "      <td>1</td>\n",
       "      <td>1</td>\n",
       "      <td>0</td>\n",
       "    </tr>\n",
       "    <tr>\n",
       "      <th>660</th>\n",
       "      <td>25523</td>\n",
       "      <td>2019-09-04 00:00:00+00:00</td>\n",
       "      <td>2019-09-04 00:00:00+00:00</td>\n",
       "      <td>&lt;NA&gt;</td>\n",
       "      <td>&lt;NA&gt;</td>\n",
       "      <td>&lt;NA&gt;</td>\n",
       "      <td>&lt;NA&gt;</td>\n",
       "      <td>0</td>\n",
       "    </tr>\n",
       "  </tbody>\n",
       "</table>\n",
       "</div>"
      ],
      "text/plain": [
       "      employee_num                  hire_date           termination_date  success_15  success_30  \\\n",
       "679          26806  2019-10-04 00:00:00+00:00                        NaN           1           1   \n",
       "1101         21612  2019-10-23 00:00:00+00:00                        NaN           1           1   \n",
       "1516         41652  2020-03-02 00:00:00+00:00  2020-04-15 00:00:00+00:00           1           1   \n",
       "1403         28534  2019-10-23 00:00:00+00:00  2020-01-29 00:00:00+00:00           1           1   \n",
       "660          25523  2019-09-04 00:00:00+00:00  2019-09-04 00:00:00+00:00        <NA>        <NA>   \n",
       "\n",
       "      success_60  success_90  referral  \n",
       "679            1           1         0  \n",
       "1101           1           1         0  \n",
       "1516           0        <NA>         0  \n",
       "1403           1           1         0  \n",
       "660         <NA>        <NA>         0  "
      ]
     },
     "execution_count": 4,
     "metadata": {},
     "output_type": "execute_result"
    }
   ],
   "source": [
    "df.sample(n= 5, random_state = 42)"
   ]
  },
  {
   "cell_type": "code",
   "execution_count": 5,
   "metadata": {
    "ExecuteTime": {
     "end_time": "2020-08-06T18:55:03.628722Z",
     "start_time": "2020-08-06T18:55:03.446723Z"
    }
   },
   "outputs": [
    {
     "name": "stdout",
     "output_type": "stream",
     "text": [
      "Time sample start: 2018-04-12 00:00:00+00:00\n",
      "Time sample end: 2020-05-27 00:00:00+00:00\n",
      "\n",
      "\n",
      "Referrals:\n",
      "0 = not referred\n",
      "1 = referred\n"
     ]
    },
    {
     "data": {
      "text/plain": [
       "0    1211\n",
       "1     433\n",
       "Name: referral, dtype: int64"
      ]
     },
     "execution_count": 5,
     "metadata": {},
     "output_type": "execute_result"
    }
   ],
   "source": [
    "# let's get the time sample using \"dbCreated\"\n",
    "new_earliest_date = df['hire_date'].min()\n",
    "new_recent_date = df['hire_date'].max()\n",
    "\n",
    "print(\"Time sample start: \" + str(new_earliest_date))\n",
    "print(\"Time sample end: \" + str(new_recent_date))\n",
    "print()\n",
    "print()\n",
    "\n",
    "print(\"Referrals:\\n0 = not referred\\n1 = referred\")\n",
    "df['referral'].value_counts()\n"
   ]
  },
  {
   "cell_type": "markdown",
   "metadata": {},
   "source": [
    "## Functions\n",
    "\n",
    "Here are the functions that I will be using in the analysis"
   ]
  },
  {
   "cell_type": "code",
   "execution_count": 6,
   "metadata": {
    "ExecuteTime": {
     "end_time": "2020-08-06T18:55:03.794721Z",
     "start_time": "2020-08-06T18:55:03.632723Z"
    }
   },
   "outputs": [],
   "source": [
    "import random\n",
    "\n",
    "def perm_fun(df,A_n,B_n):\n",
    "    ''' This function randomly resamples from the group and returns the difference in means'''\n",
    "    \n",
    "    N = A_n + B_n \n",
    "    idx_B = set(random.sample(range(N),B_n)) # pull new random sample from N with length B_n\n",
    "    idx_A = set(range(N))- idx_B # create new sample for A_n by subtracting idx_B from N\n",
    "    return df.loc[idx_B].mean() - df.loc[idx_A].mean() # return the difference in means\n",
    "\n",
    "def actual_obs(df,success):\n",
    "    ''' This function creates a crosstab of the actual milestone observations \n",
    "    and returns the means and the mean difference '''\n",
    "    \n",
    "    idx = pd.IndexSlice\n",
    "    i = pd.crosstab(df['referral'],success,margins=True, margins_name=\"Total\")\n",
    "    print()\n",
    "    print(i.to_markdown())\n",
    "    print()\n",
    "    A = (i.loc[idx[0,1]]) # this is the non-referral count of success for the success milestone\n",
    "    A_n = (i.loc[idx[0,'Total']]) # this is the n of non-referrals\n",
    "    B = (i.loc[idx[1,1]]) # this is the referral count of success for the success milestone\n",
    "    B_n = (i.loc[idx[1,'Total']]) # this is the n of referrals\n",
    "    percent_succ_ref = A / A_n\n",
    "    percent_succ_non = B / B_n\n",
    "    mean_diff = (percent_succ_non - percent_succ_ref)\n",
    "    print()\n",
    "    print(f\"Observed Success of total referred: {(percent_succ_ref):.04%}\")\n",
    "    print(f\"Observed Success of total non_referred: {(percent_succ_non):.04%}\")\n",
    "    print(f\"Difference in observed means: {(mean_diff):.04}\")\n",
    "    print()\n",
    "    print()\n",
    "    return A_n, B_n, mean_diff\n",
    "\n",
    "def perm_plot(perm_diffs,mean_diff):\n",
    "    ''' This function plots the histogram of the permutation test'''\n",
    "    \n",
    "    fig,ax = plt.subplots(figsize = (10,7))\n",
    "    ax.hist(perm_diffs, bins = 11, rwidth = 0.9)\n",
    "    ax.axvline(x = mean_diff,linestyle = 'dashed', color = 'red', lw = 2)\n",
    "    ax.text(mean_diff,200,'Observed\\ndifference',fontsize = 14)#, bbox = {'facecolor':'white'})\n",
    "    ax.set_xlabel('Differences in Means',fontsize = 14)\n",
    "    ax.set_ylabel('Frequency',fontsize = 14)\n",
    "    sns.despine()\n",
    "    "
   ]
  },
  {
   "cell_type": "markdown",
   "metadata": {},
   "source": [
    "# Analysis/Modeling"
   ]
  },
  {
   "cell_type": "markdown",
   "metadata": {},
   "source": [
    "## Referred vs Non-referred: actual observations\n",
    "Here we will be measuring who was referred and succeeded vs who was not referred and succeeded"
   ]
  },
  {
   "cell_type": "markdown",
   "metadata": {},
   "source": [
    "The question that we want to test for is whether these outcomes are more different than what may be generated by chance. So I will be looking to see if through modeling of the data by using a permutation test, what the probability is that I can obtain results as extreme as the actual observed results in the data."
   ]
  },
  {
   "cell_type": "markdown",
   "metadata": {},
   "source": [
    "## Permutation Test\n",
    "\n",
    "Here, I will be running permutation tests 1000 times each for each of the 3 milestone groups to create a random distribution of the means that will be plotted as a histogram. For each test, I will be plotting the actual observed mean difference with a red line to visually display where the actual observation lands within the distribution of random permutations of the data."
   ]
  },
  {
   "cell_type": "markdown",
   "metadata": {},
   "source": [
    "### Success at 30 Days"
   ]
  },
  {
   "cell_type": "code",
   "execution_count": 7,
   "metadata": {
    "ExecuteTime": {
     "end_time": "2020-08-06T18:55:08.477723Z",
     "start_time": "2020-08-06T18:55:03.800726Z"
    }
   },
   "outputs": [
    {
     "name": "stdout",
     "output_type": "stream",
     "text": [
      "\n",
      "| referral   |   0 |   1 |   Total |\n",
      "|:-----------|----:|----:|--------:|\n",
      "| 0          | 381 | 627 |    1008 |\n",
      "| 1          | 140 | 246 |     386 |\n",
      "| Total      | 521 | 873 |    1394 |\n",
      "\n",
      "\n",
      "Observed Success of total referred: 62.2024%\n",
      "Observed Success of total non_referred: 63.7306%\n",
      "Difference in observed means: 0.01528\n",
      "\n",
      "\n",
      "\n",
      "Average amount random chance is greater than observed: 0.307\n"
     ]
    },
    {
     "data": {
      "image/png": "[encoded data removed]",
      "text/plain": [
       "<Figure size 720x504 with 1 Axes>"
      ]
     },
     "metadata": {
      "needs_background": "light"
     },
     "output_type": "display_data"
    }
   ],
   "source": [
    "success = df.success_30\n",
    "\n",
    "A_n,B_n,mean_diff = actual_obs(df,success)\n",
    "perm_diffs = [perm_fun(success,A_n,B_n) for _ in range(1000)]\n",
    "perm_plot(perm_diffs,mean_diff)\n",
    "print()\n",
    "prob = np.mean(perm_diffs > mean_diff)\n",
    "print(f\"Average amount random chance is greater than observed: {prob}\")"
   ]
  },
  {
   "cell_type": "markdown",
   "metadata": {},
   "source": [
    "Above: From the random permutation test, the initial observation of the mean difference between the referrals and non-referrals is exceeded by 30% of the distribution. Thus we can say that the observation is NOT statistically significant and we fail to reject the null hypothesis."
   ]
  },
  {
   "cell_type": "markdown",
   "metadata": {},
   "source": [
    "### Success at 60 Days"
   ]
  },
  {
   "cell_type": "code",
   "execution_count": 8,
   "metadata": {
    "ExecuteTime": {
     "end_time": "2020-08-06T18:55:11.295752Z",
     "start_time": "2020-08-06T18:55:08.479721Z"
    }
   },
   "outputs": [
    {
     "name": "stdout",
     "output_type": "stream",
     "text": [
      "\n",
      "| referral   |   0 |   1 |   Total |\n",
      "|:-----------|----:|----:|--------:|\n",
      "| 0          | 535 | 441 |     976 |\n",
      "| 1          | 170 | 203 |     373 |\n",
      "| Total      | 705 | 644 |    1349 |\n",
      "\n",
      "\n",
      "Observed Success of total referred: 45.1844%\n",
      "Observed Success of total non_referred: 54.4236%\n",
      "Difference in observed means: 0.09239\n",
      "\n",
      "\n",
      "\n",
      "Average amount random chance is greater than observed: 0.005\n"
     ]
    },
    {
     "data": {
      "image/png": "[encoded data removed]",
      "text/plain": [
       "<Figure size 720x504 with 1 Axes>"
      ]
     },
     "metadata": {
      "needs_background": "light"
     },
     "output_type": "display_data"
    }
   ],
   "source": [
    "success = df.success_60\n",
    "\n",
    "\n",
    "A_n,B_n,mean_diff = actual_obs(df,success)\n",
    "perm_diffs = [perm_fun(success,A_n,B_n) for _ in range(1000)]\n",
    "perm_plot(perm_diffs,mean_diff)\n",
    "print()\n",
    "prob = np.mean(perm_diffs > mean_diff)\n",
    "print(f\"Average amount random chance is greater than observed: {prob}\")"
   ]
  },
  {
   "cell_type": "markdown",
   "metadata": {},
   "source": [
    "Above: From the random permutation test, the initial observation of the mean difference between the referrals and non-referrals at the 60 day milestone exceeds the range of chance variation approximately 99% of the time. Thus we can say that the observation IS statistically significant and we can reject the null hypothesis"
   ]
  },
  {
   "cell_type": "markdown",
   "metadata": {},
   "source": [
    "### Success at 90 Days"
   ]
  },
  {
   "cell_type": "code",
   "execution_count": 9,
   "metadata": {
    "ExecuteTime": {
     "end_time": "2020-08-06T18:55:14.056720Z",
     "start_time": "2020-08-06T18:55:11.297722Z"
    }
   },
   "outputs": [
    {
     "name": "stdout",
     "output_type": "stream",
     "text": [
      "\n",
      "| referral   |   0 |   1 |   Total |\n",
      "|:-----------|----:|----:|--------:|\n",
      "| 0          | 595 | 314 |     909 |\n",
      "| 1          | 195 | 143 |     338 |\n",
      "| Total      | 790 | 457 |    1247 |\n",
      "\n",
      "\n",
      "Observed Success of total referred: 34.5435%\n",
      "Observed Success of total non_referred: 42.3077%\n",
      "Difference in observed means: 0.07764\n",
      "\n",
      "\n",
      "\n",
      "Average amount random chance is greater than observed: 0.012\n"
     ]
    },
    {
     "data": {
      "image/png": "[encoded data removed]",
      "text/plain": [
       "<Figure size 720x504 with 1 Axes>"
      ]
     },
     "metadata": {
      "needs_background": "light"
     },
     "output_type": "display_data"
    }
   ],
   "source": [
    "success = df.success_90\n",
    "\n",
    "\n",
    "A_n,B_n,mean_diff = actual_obs(df,success)\n",
    "perm_diffs = [perm_fun(success,A_n,B_n) for _ in range(1000)]\n",
    "perm_plot(perm_diffs,mean_diff)\n",
    "print()\n",
    "prob = np.mean(perm_diffs > mean_diff)\n",
    "print(f\"Average amount random chance is greater than observed: {prob}\")"
   ]
  },
  {
   "cell_type": "markdown",
   "metadata": {},
   "source": [
    " Above: From the random permutation test, our initial observation of the mean difference between the referrals and non-referrals at the 90 day mileston exceeds the range of chance variation approximately 99% of the time. Thus we can say that the observation IS statistically significant and we can reject the null hypothesis"
   ]
  },
  {
   "cell_type": "markdown",
   "metadata": {},
   "source": [
    "# Conclusions"
   ]
  },
  {
   "cell_type": "markdown",
   "metadata": {
    "ExecuteTime": {
     "end_time": "2020-08-06T17:58:37.548779Z",
     "start_time": "2020-08-06T17:58:37.447816Z"
    }
   },
   "source": [
    "From the experiment that was conducted, I did not see any real difference at 30 days from the effect of referrals over non-referrals. However, at the 60 and 90 day milestones, the observed differences between referred employees and non-referred employess showed a statistically significant difference between referrals and non-referrals. These findings from the data may suggest that referred employees tend to last longer on the job than non-referred employees. <br>\n",
    "\n",
    "While the finding is statistically significant, the effect of referrals from 60 and 90 days is still less than a 10% difference. However, this knowledge should inform the recruiters and hiring managers to encourage current employees to refer candidates for jobs as reducing employee turnover can create savings both in costs associated with recruitment and training as well as cutting down on lost productivity due to employee attrition. "
   ]
  },
  {
   "cell_type": "code",
   "execution_count": null,
   "metadata": {},
   "outputs": [],
   "source": []
  }
 ],
 "metadata": {
  "kernelspec": {
   "display_name": "Python 3",
   "language": "python",
   "name": "python3"
  },
  "language_info": {
   "codemirror_mode": {
    "name": "ipython",
    "version": 3
   },
   "file_extension": ".py",
   "mimetype": "text/x-python",
   "name": "python",
   "nbconvert_exporter": "python",
   "pygments_lexer": "ipython3",
   "version": "3.7.2"
  },
  "toc": {
   "base_numbering": 1,
   "nav_menu": {},
   "number_sections": true,
   "sideBar": true,
   "skip_h1_title": false,
   "title_cell": "Table of Contents",
   "title_sidebar": "Contents",
   "toc_cell": false,
   "toc_position": {
    "height": "calc(100% - 180px)",
    "left": "10px",
    "top": "150px",
    "width": "289px"
   },
   "toc_section_display": true,
   "toc_window_display": true
  },
  "varInspector": {
   "cols": {
    "lenName": 16,
    "lenType": 16,
    "lenVar": 40
   },
   "kernels_config": {
    "python": {
     "delete_cmd_postfix": "",
     "delete_cmd_prefix": "del ",
     "library": "var_list.py",
     "varRefreshCmd": "print(var_dic_list())"
    },
    "r": {
     "delete_cmd_postfix": ") ",
     "delete_cmd_prefix": "rm(",
     "library": "var_list.r",
     "varRefreshCmd": "cat(var_dic_list()) "
    }
   },
   "types_to_exclude": [
    "module",
    "function",
    "builtin_function_or_method",
    "instance",
    "_Feature"
   ],
   "window_display": false
  }
 },
 "nbformat": 4,
 "nbformat_minor": 2
}
